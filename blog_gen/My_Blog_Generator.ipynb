{
  "nbformat": 4,
  "nbformat_minor": 0,
  "metadata": {
    "colab": {
      "provenance": []
    },
    "kernelspec": {
      "name": "python3",
      "display_name": "Python 3"
    },
    "language_info": {
      "name": "python"
    }
  },
  "cells": [
    {
      "cell_type": "markdown",
      "source": [
        "# Project 1: Blog Generator with OpenAI API\n",
        "\n",
        "Welcome to the first project of our course! In this section, we'll embark on an exciting journey to build a Blog Generator using the powerful OpenAI API. Our goal is to create an intelligent system capable of generating engaging and coherent blog content with just a prompt from the user. This project will not only introduce you to the world of AI-driven content creation but also demonstrate the practical application of the OpenAI API within a real-world scenario.\n",
        "\n",
        "## What You Will Learn\n",
        "\n",
        "- **OpenAI API Overview**: Gain a solid understanding of the OpenAI API and its capabilities for natural language processing and generation.\n",
        "- **Setting Up Google Colab**: Familiarize yourself with Google Colab, an ideal platform for running Python code and integrating APIs in a cloud-based environment.\n",
        "- **Prompt Engineering**: Develop skills in crafting prompts that guide the AI to produce the desired output, a critical aspect of leveraging generative language models.\n",
        "- **Content Generation**: Understand how to generate text that is coherent, contextually relevant, and stylistically appropriate for blog posts.\n",
        "\n",
        "## Project Objectives\n",
        "\n",
        "By the end of this project, you will have created a Blog Generator that can:\n",
        "\n",
        "1. **Take User Input**: Accept user-defined prompts or topics to generate content about.\n",
        "2. **Generate Blog Posts**: Produce complete blog posts that are ready for publication, including titles, headers, and paragraphs.\n",
        "3. **Display Results**: Present the generated blog posts in a clear and organized format within Google Colab.\n",
        "\n",
        "## Before We Start\n",
        "\n",
        "Make sure you have:\n",
        "- A Google Colab account set up.\n",
        "- Basic knowledge of Python programming.\n",
        "- An OpenAI API key (you can obtain one from [OpenAI](https://platform.openai.com/account/api-keys)).\n",
        "\n",
        "## Let's Build!\n",
        "\n",
        "Are you ready to dive into the world of AI and transform the way blog content is created? Let's get started on building your very own Blog Generator using the OpenAI API!\n",
        "\n"
      ],
      "metadata": {
        "id": "vUehOJlORE-j"
      }
    },
    {
      "cell_type": "markdown",
      "source": [
        "# 2. Libraries import"
      ],
      "metadata": {
        "id": "NDlbXftjSHdL"
      }
    },
    {
      "cell_type": "code",
      "source": [
        "pip install openai"
      ],
      "metadata": {
        "id": "KTBw517ySLF2",
        "outputId": "1c0cd8fe-5438-4a4c-8b73-4fb923a4cdb9",
        "colab": {
          "base_uri": "https://localhost:8080/"
        }
      },
      "execution_count": null,
      "outputs": [
        {
          "output_type": "stream",
          "name": "stdout",
          "text": [
            "Collecting openai\n",
            "  Downloading openai-1.35.10-py3-none-any.whl (328 kB)\n",
            "\u001b[2K     \u001b[90m━━━━━━━━━━━━━━━━━━━━━━━━━━━━━━━━━━━━━━━━\u001b[0m \u001b[32m328.3/328.3 kB\u001b[0m \u001b[31m4.7 MB/s\u001b[0m eta \u001b[36m0:00:00\u001b[0m\n",
            "\u001b[?25hRequirement already satisfied: anyio<5,>=3.5.0 in /usr/local/lib/python3.10/dist-packages (from openai) (3.7.1)\n",
            "Requirement already satisfied: distro<2,>=1.7.0 in /usr/lib/python3/dist-packages (from openai) (1.7.0)\n",
            "Collecting httpx<1,>=0.23.0 (from openai)\n",
            "  Downloading httpx-0.27.0-py3-none-any.whl (75 kB)\n",
            "\u001b[2K     \u001b[90m━━━━━━━━━━━━━━━━━━━━━━━━━━━━━━━━━━━━━━━━\u001b[0m \u001b[32m75.6/75.6 kB\u001b[0m \u001b[31m9.0 MB/s\u001b[0m eta \u001b[36m0:00:00\u001b[0m\n",
            "\u001b[?25hRequirement already satisfied: pydantic<3,>=1.9.0 in /usr/local/lib/python3.10/dist-packages (from openai) (2.8.0)\n",
            "Requirement already satisfied: sniffio in /usr/local/lib/python3.10/dist-packages (from openai) (1.3.1)\n",
            "Requirement already satisfied: tqdm>4 in /usr/local/lib/python3.10/dist-packages (from openai) (4.66.4)\n",
            "Requirement already satisfied: typing-extensions<5,>=4.7 in /usr/local/lib/python3.10/dist-packages (from openai) (4.12.2)\n",
            "Requirement already satisfied: idna>=2.8 in /usr/local/lib/python3.10/dist-packages (from anyio<5,>=3.5.0->openai) (3.7)\n",
            "Requirement already satisfied: exceptiongroup in /usr/local/lib/python3.10/dist-packages (from anyio<5,>=3.5.0->openai) (1.2.1)\n",
            "Requirement already satisfied: certifi in /usr/local/lib/python3.10/dist-packages (from httpx<1,>=0.23.0->openai) (2024.6.2)\n",
            "Collecting httpcore==1.* (from httpx<1,>=0.23.0->openai)\n",
            "  Downloading httpcore-1.0.5-py3-none-any.whl (77 kB)\n",
            "\u001b[2K     \u001b[90m━━━━━━━━━━━━━━━━━━━━━━━━━━━━━━━━━━━━━━━━\u001b[0m \u001b[32m77.9/77.9 kB\u001b[0m \u001b[31m9.0 MB/s\u001b[0m eta \u001b[36m0:00:00\u001b[0m\n",
            "\u001b[?25hCollecting h11<0.15,>=0.13 (from httpcore==1.*->httpx<1,>=0.23.0->openai)\n",
            "  Downloading h11-0.14.0-py3-none-any.whl (58 kB)\n",
            "\u001b[2K     \u001b[90m━━━━━━━━━━━━━━━━━━━━━━━━━━━━━━━━━━━━━━━━\u001b[0m \u001b[32m58.3/58.3 kB\u001b[0m \u001b[31m7.4 MB/s\u001b[0m eta \u001b[36m0:00:00\u001b[0m\n",
            "\u001b[?25hRequirement already satisfied: annotated-types>=0.4.0 in /usr/local/lib/python3.10/dist-packages (from pydantic<3,>=1.9.0->openai) (0.7.0)\n",
            "Requirement already satisfied: pydantic-core==2.20.0 in /usr/local/lib/python3.10/dist-packages (from pydantic<3,>=1.9.0->openai) (2.20.0)\n",
            "Installing collected packages: h11, httpcore, httpx, openai\n",
            "Successfully installed h11-0.14.0 httpcore-1.0.5 httpx-0.27.0 openai-1.35.10\n"
          ]
        }
      ]
    },
    {
      "cell_type": "code",
      "execution_count": null,
      "metadata": {
        "id": "lYFNyycCQ2p-"
      },
      "outputs": [],
      "source": [
        "import os\n",
        "import openai\n",
        "\n",
        "from openai import OpenAI"
      ]
    },
    {
      "cell_type": "markdown",
      "source": [
        "# 3. Sending a first request to OpenAI API\n",
        "\n",
        "\n",
        "### 3.1 Setting up API Key"
      ],
      "metadata": {
        "id": "TwaQS_nXSQxf"
      }
    },
    {
      "cell_type": "code",
      "source": [
        "os.environ[\"OPENAI_API_KEY\"] = \"sk-proj-DLbPDOnYvszGBPfHyHZzT3BlbkFJR5ZzzsMHfnDKdbbcNte6\"\n",
        "client = OpenAI()"
      ],
      "metadata": {
        "id": "btc16h6ySPFA"
      },
      "execution_count": null,
      "outputs": []
    },
    {
      "cell_type": "markdown",
      "source": [
        "### 3.2 OpenAI available models"
      ],
      "metadata": {
        "id": "i7Woy2IBTJ2Y"
      }
    },
    {
      "cell_type": "code",
      "source": [
        "print(client.models.list())"
      ],
      "metadata": {
        "colab": {
          "base_uri": "https://localhost:8080/"
        },
        "id": "Yi2MpDWIS5UR",
        "outputId": "97f40f9d-cf70-4d20-c71d-507e95a959dc"
      },
      "execution_count": null,
      "outputs": [
        {
          "output_type": "stream",
          "name": "stdout",
          "text": [
            "SyncPage[Model](data=[Model(id='whisper-1', created=1677532384, object='model', owned_by='openai-internal'), Model(id='tts-1', created=1681940951, object='model', owned_by='openai-internal'), Model(id='dall-e-2', created=1698798177, object='model', owned_by='system'), Model(id='tts-1-hd-1106', created=1699053533, object='model', owned_by='system'), Model(id='tts-1-hd', created=1699046015, object='model', owned_by='system'), Model(id='gpt-4-turbo-2024-04-09', created=1712601677, object='model', owned_by='system'), Model(id='gpt-4-turbo', created=1712361441, object='model', owned_by='system'), Model(id='gpt-3.5-turbo-1106', created=1698959748, object='model', owned_by='system'), Model(id='dall-e-3', created=1698785189, object='model', owned_by='system'), Model(id='gpt-4-0125-preview', created=1706037612, object='model', owned_by='system'), Model(id='gpt-4-turbo-preview', created=1706037777, object='model', owned_by='system'), Model(id='text-embedding-3-small', created=1705948997, object='model', owned_by='system'), Model(id='text-embedding-3-large', created=1705953180, object='model', owned_by='system'), Model(id='gpt-3.5-turbo-16k', created=1683758102, object='model', owned_by='openai-internal'), Model(id='gpt-4-1106-preview', created=1698957206, object='model', owned_by='system'), Model(id='babbage-002', created=1692634615, object='model', owned_by='system'), Model(id='gpt-4o-2024-05-13', created=1715368132, object='model', owned_by='system'), Model(id='gpt-4', created=1687882411, object='model', owned_by='openai'), Model(id='gpt-4-0613', created=1686588896, object='model', owned_by='openai'), Model(id='gpt-3.5-turbo-0125', created=1706048358, object='model', owned_by='system'), Model(id='tts-1-1106', created=1699053241, object='model', owned_by='system'), Model(id='gpt-3.5-turbo', created=1677610602, object='model', owned_by='openai'), Model(id='gpt-3.5-turbo-instruct', created=1692901427, object='model', owned_by='system'), Model(id='gpt-3.5-turbo-instruct-0914', created=1694122472, object='model', owned_by='system'), Model(id='text-embedding-ada-002', created=1671217299, object='model', owned_by='openai-internal'), Model(id='davinci-002', created=1692634301, object='model', owned_by='system'), Model(id='gpt-4o', created=1715367049, object='model', owned_by='system')], object='list')\n"
          ]
        }
      ]
    },
    {
      "cell_type": "markdown",
      "source": [
        "Find about the Completion endpoint and all of its arguments: https://platform.openai.com/docs/api-reference/completions/create"
      ],
      "metadata": {
        "id": "JtpBCMAeUF6o"
      }
    },
    {
      "cell_type": "code",
      "source": [
        "client.completions.create(\n",
        "    model=\"gpt-3.5-turbo-instruct\",\n",
        "    prompt=\"Tell me about cricket in india\",\n",
        ")"
      ],
      "metadata": {
        "id": "Ch6chVYoTRyq",
        "colab": {
          "base_uri": "https://localhost:8080/"
        },
        "outputId": "2d4c77b6-0439-4cb7-dd40-c478692a3025"
      },
      "execution_count": null,
      "outputs": [
        {
          "output_type": "execute_result",
          "data": {
            "text/plain": [
              "Completion(id='cmpl-9hMxxsb4yW9f1FtlwtSslib48LUpx', choices=[CompletionChoice(finish_reason='length', index=0, logprobs=None, text='\\n\\nCricket is the most popular sport in India, with a massive fan following')], created=1720123413, model='gpt-3.5-turbo-instruct', object='text_completion', system_fingerprint=None, usage=CompletionUsage(completion_tokens=16, prompt_tokens=6, total_tokens=22))"
            ]
          },
          "metadata": {},
          "execution_count": 6
        }
      ]
    },
    {
      "cell_type": "markdown",
      "source": [
        "# 4. Building our Blog generator"
      ],
      "metadata": {
        "id": "9_OjVDWsUe4n"
      }
    },
    {
      "cell_type": "code",
      "source": [
        "response = client.completions.create(\n",
        "    model=\"gpt-3.5-turbo-instruct\",\n",
        "    prompt=\"Generate a blog about importance of sports\",\n",
        "    temperature=0.9,\n",
        "    max_tokens=400,\n",
        ")"
      ],
      "metadata": {
        "id": "XW3sF_EmTbtr"
      },
      "execution_count": null,
      "outputs": []
    },
    {
      "cell_type": "code",
      "source": [
        "response"
      ],
      "metadata": {
        "id": "msr1bpSNUsZ9",
        "colab": {
          "base_uri": "https://localhost:8080/"
        },
        "outputId": "58070e17-b339-4210-b534-0c2b8c9b7cb0"
      },
      "execution_count": null,
      "outputs": [
        {
          "output_type": "execute_result",
          "data": {
            "text/plain": [
              "Completion(id='cmpl-9hNL4jLsT4RoCzFqtJeiPlSkNp3BM', choices=[CompletionChoice(finish_reason='length', index=0, logprobs=None, text='\\n\\nSports have been an integral part of human society for centuries. From the ancient Greek Olympics to modern day professional leagues, the importance of sports cannot be denied. While some may see sports as just a form of entertainment, it has a much deeper impact on our lives and has numerous benefits for individuals, communities, and even countries. In this blog, we will discuss the importance of sports and why it should be a vital part of everyone’s life.\\n\\nPhysical health is often the first thing that comes to mind when we think about sports. And for good reason, as playing sports regularly has numerous physical benefits. It improves cardiovascular health, strengthens muscles and bones, and increases endurance and flexibility. It also helps in maintaining a healthy weight and reducing the risk of chronic diseases like obesity, diabetes, and heart diseases. By engaging in physical activities through sports, we are also able to release endorphins which can improve our mood and reduce stress.\\n\\nHowever, the benefits of sports go beyond physical health. It also has a positive impact on our mental well-being. Playing sports can increase self-esteem, boost confidence, and improve mental toughness. It teaches us the importance of discipline, teamwork, and how to handle both success and failure. These valuable lessons learned on the field can be applied in other areas of life such as school, work, and relationships. The sense of accomplishment and camaraderie that comes with playing sports can also help in reducing anxiety and depression.\\n\\nAnother important aspect of sports is its ability to bring people together. Regardless of age, gender, race, or social status, sports have the power to unite people. It promotes social interaction and helps in building friendships, both on and off the field. Team sports, in particular, teach individuals the importance of cooperation and communication. It also provides a platform for individuals to showcase their talent and gain recognition. This can be especially beneficial for young athletes as it can open doors to scholarships and professional opportunities.\\n\\nOn a larger scale, sports can also have a significant')], created=1720124846, model='gpt-3.5-turbo-instruct', object='text_completion', system_fingerprint=None, usage=CompletionUsage(completion_tokens=400, prompt_tokens=7, total_tokens=407))"
            ]
          },
          "metadata": {},
          "execution_count": 8
        }
      ]
    },
    {
      "cell_type": "code",
      "source": [
        "print(response.choices[0].text)"
      ],
      "metadata": {
        "id": "yX8hooEwVRBm",
        "colab": {
          "base_uri": "https://localhost:8080/"
        },
        "outputId": "1ba89003-4704-4a34-b707-5f8c0c6c4605"
      },
      "execution_count": null,
      "outputs": [
        {
          "output_type": "stream",
          "name": "stdout",
          "text": [
            "\n",
            "\n",
            "Sports have been an integral part of human society for centuries. From the ancient Greek Olympics to modern day professional leagues, the importance of sports cannot be denied. While some may see sports as just a form of entertainment, it has a much deeper impact on our lives and has numerous benefits for individuals, communities, and even countries. In this blog, we will discuss the importance of sports and why it should be a vital part of everyone’s life.\n",
            "\n",
            "Physical health is often the first thing that comes to mind when we think about sports. And for good reason, as playing sports regularly has numerous physical benefits. It improves cardiovascular health, strengthens muscles and bones, and increases endurance and flexibility. It also helps in maintaining a healthy weight and reducing the risk of chronic diseases like obesity, diabetes, and heart diseases. By engaging in physical activities through sports, we are also able to release endorphins which can improve our mood and reduce stress.\n",
            "\n",
            "However, the benefits of sports go beyond physical health. It also has a positive impact on our mental well-being. Playing sports can increase self-esteem, boost confidence, and improve mental toughness. It teaches us the importance of discipline, teamwork, and how to handle both success and failure. These valuable lessons learned on the field can be applied in other areas of life such as school, work, and relationships. The sense of accomplishment and camaraderie that comes with playing sports can also help in reducing anxiety and depression.\n",
            "\n",
            "Another important aspect of sports is its ability to bring people together. Regardless of age, gender, race, or social status, sports have the power to unite people. It promotes social interaction and helps in building friendships, both on and off the field. Team sports, in particular, teach individuals the importance of cooperation and communication. It also provides a platform for individuals to showcase their talent and gain recognition. This can be especially beneficial for young athletes as it can open doors to scholarships and professional opportunities.\n",
            "\n",
            "On a larger scale, sports can also have a significant\n"
          ]
        }
      ]
    },
    {
      "cell_type": "code",
      "source": [
        "prompt = \"\"\"\n",
        "You are a copy writer with years of experience writing impactful blog that converge and help elevate brands.\n",
        "Your task is to write a blog on any topic system provides you with. Make sure to write in a format that works for Medium.\n",
        "Each blog should be separated into segments that have titles and subtitles. Each paragraph should be three sentences long.\n",
        "\n",
        "Topic: fitness\n",
        "Additiona pointers: consider health benefits\n",
        "\"\"\"\n",
        "\n",
        "response = client.completions.create(\n",
        "    model=\"gpt-3.5-turbo-instruct\",\n",
        "    prompt=prompt,\n",
        "    temperature=1,\n",
        "    max_tokens=400,\n",
        ")"
      ],
      "metadata": {
        "id": "z3i8Xn2qL9Um"
      },
      "execution_count": null,
      "outputs": []
    },
    {
      "cell_type": "code",
      "source": [
        "response.choices[0].text"
      ],
      "metadata": {
        "colab": {
          "base_uri": "https://localhost:8080/",
          "height": 122
        },
        "id": "SDIBCxuUeMvu",
        "outputId": "683872a4-67ec-4cd6-ea19-23ab105a5c03"
      },
      "execution_count": null,
      "outputs": [
        {
          "output_type": "execute_result",
          "data": {
            "text/plain": [
              "'\\nTitle: \"5 Surprising Ways Fitness Can Improve Your Health\"\\n\\nSubtitle: \"Discover the Hidden Benefits of Staying Fit and Active\"\\n\\nParagraph 1:\\nWe all know that staying fit and active can help us maintain a healthy weight and increase our overall strength and endurance. But did you know that regular exercise can also have surprising effects on your health? From reducing the risk of chronic diseases to boosting your mental well-being, here are five unexpected ways that fitness can improve your health.\\n\\nSubtitle: \"Reducing the Risk of Chronic Diseases\"\\n\\nParagraph 2:\\nOne of the most significant benefits of staying fit is the reduced risk of chronic diseases such as heart disease, diabetes, and certain types of cancer. Regular exercise helps to improve blood circulation, lower blood pressure, and control blood sugar levels, all of which contribute to a healthier heart and body. Additionally, physical activity can also decrease inflammation in the body, which is a significant factor in the development of chronic diseases.\\n\\nSubtitle: \"Boosting Your Mental Well-Being\"\\n\\nParagraph 3:\\nExercise not only benefits our physical health but also has a positive impact on our mental well-being. Physical activity stimulates the release of endorphins, our body\\'s feel-good hormones, which can improve our mood and reduce symptoms of anxiety and depression. Moreover, incorporating regular exercise into your routine can also help with stress management, providing you with a healthy outlet for any built-up tension.\\n\\nSubtitle: \"Improving Cognitive Function\"\\n\\nParagraph 4:\\nStaying active can also have a positive effect on our brain health and cognitive function. Research has shown that exercise can improve memory, focus, and overall cognitive performance. This is because physical activity increases the production of growth factors in the brain, which help to create new brain cells and strengthen existing ones. So next time you hit the gym, remember that you\\'re not only building your muscles but also boosting your brainpower.\\n\\nSubtitle: \"Promoting Better Sleep\"\\n\\nParagraph 5:\\nStruggling with getting a good night'"
            ],
            "application/vnd.google.colaboratory.intrinsic+json": {
              "type": "string"
            }
          },
          "metadata": {},
          "execution_count": 13
        }
      ]
    },
    {
      "cell_type": "markdown",
      "source": [
        "### 4.2 Accepting user inputs"
      ],
      "metadata": {
        "id": "gdGX-w1CVxGx"
      }
    },
    {
      "cell_type": "code",
      "source": [
        "topic = input(\"Enter a topic: \")\n",
        "additional_pointers = input(\"Enter any additional pointers, if any: \")\n",
        "\n",
        "prompt = f\"\"\"\n",
        "You are a copy writer with years of experience writing impactful blog that converge and help elevate brands.\n",
        "Your task is to write a blog on any topic system provides you with. Make sure to write in a format that works for Medium.\n",
        "Each blog should be separated into segments that have titles and subtitles. Each paragraph should be three sentences long.\n",
        "\n",
        "Topic: {topic}\n",
        "Additiona pointers: {additional_pointers}\n",
        "\"\"\"\n",
        "\n",
        "response = client.completions.create(\n",
        "    model=\"gpt-3.5-turbo-instruct\",\n",
        "    prompt=prompt,\n",
        "    temperature=1,\n",
        "    max_tokens=700,\n",
        ")\n",
        "\n",
        "print(response.choices[0].text)"
      ],
      "metadata": {
        "colab": {
          "base_uri": "https://localhost:8080/"
        },
        "id": "yObsPMW5eLHi",
        "outputId": "32bca1b9-d537-423e-fd7f-188650cd093e"
      },
      "execution_count": null,
      "outputs": [
        {
          "output_type": "stream",
          "name": "stdout",
          "text": [
            "Enter a topic: food chemicals\n",
            "Enter any additional pointers, if any: health issue\n",
            "\n",
            "Title: \"The Hidden Dangers of Food Chemicals: Impact on Our Health\"\n",
            "\n",
            "Introduction:\n",
            "Food is an essential part of our daily lives, providing us with sustenance and nourishment. However, not all food is created equal. Many of the foods we consume today are full of chemical additives, used to enhance taste, texture, and shelf life. While these additives may seem harmless, they can have a significant impact on our health. In this blog, we will explore the hidden dangers of food chemicals and their potential effects on our well-being.\n",
            "\n",
            "Segment 1: What are food chemicals?\n",
            "Food chemicals, also known as food additives, are substances added to food during production, processing, packaging, or storage. They can be natural or synthetic and are used to improve the appearance, flavor, or texture of food. Some common food chemicals include preservatives, sweeteners, colorings, and flavor enhancers.\n",
            "\n",
            "Segment 2: Health concerns associated with food chemicals\n",
            "While food chemicals may be deemed safe for consumption by food regulatory agencies, there is still a growing concern about their potential health effects. Research has linked certain food chemicals to allergic reactions, digestive issues, and even chronic diseases such as cancer. Moreover, these additives may also have negative effects on children's behavior and brain development.\n",
            "\n",
            "Segment 3: Common food chemicals to watch out for\n",
            "It can be challenging to keep track of all the food chemicals present in our food, as they often have cryptic names on ingredient labels. However, some common ones to watch out for are MSG (monosodium glutamate), BHA and BHT (preservatives), artificial sweeteners like aspartame, and food dyes such as Red 40 and Yellow 5. These chemicals have been linked to various health concerns and should be consumed in moderation.\n",
            "\n",
            "Segment 4: How to avoid food chemicals\n",
            "While it may be impossible to completely avoid food chemicals in our modern food system, there are ways to limit our exposure. Opting for whole, unprocessed foods as much as possible is the best way to avoid these additives. Reading ingredient labels and choosing products with fewer or no chemical additives is also recommended. Additionally, selecting organic and non-GMO options can help reduce exposure to synthetic chemicals.\n",
            "\n",
            "Segment 5: The importance of being an informed consumer\n",
            "As consumers, it is crucial to be aware of the foods we are eating and the potential impact they have on our health. Educating ourselves on food chemicals and their effects can help us make more informed and healthier decisions when it comes to our diet. We can also advocate for more transparent labeling and stricter regulations on food additives.\n",
            "\n",
            "Conclusion:\n",
            "In conclusion, food chemicals may be lurking in our food and potentially harming our health. While they may be deemed safe by regulatory agencies, it is essential to be aware of their potential risks and make informed decisions about the foods we consume. By being conscious consumers and opting for whole, unprocessed foods, we can take a step towards a healthier and safer diet. \n"
          ]
        }
      ]
    },
    {
      "cell_type": "code",
      "source": [],
      "metadata": {
        "id": "SFhM14-NVUqJ"
      },
      "execution_count": null,
      "outputs": []
    }
  ]
}